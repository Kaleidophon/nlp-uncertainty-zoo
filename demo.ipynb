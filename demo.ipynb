{
 "cells": [
  {
   "cell_type": "markdown",
   "id": "ae8ceee0",
   "metadata": {},
   "source": [
    "# 🤖💬❓nlp-uncertainty-zoo Demo\n",
    "\n",
    "This is a quick demo for the nlp-uncertainty-zoo, detailing how to jump in quickly with package. We will do this by training two different models on the Rotten Tomatoes sentiment analysis dataset, where want to classify where a movie review is positive or negative. \n",
    "\n",
    "For that purpose, we first start by importing all necessary packages as well as loading and preprocessing the dataset. Even though the first model we are using is LSTM-based, we will still use the BERT tokenizer here for the sake of simplicity."
   ]
  },
  {
   "cell_type": "markdown",
   "id": "a1e8f0d1",
   "metadata": {},
   "source": [
    "## Loading the dataset & preprocessing"
   ]
  },
  {
   "cell_type": "code",
   "execution_count": 31,
   "id": "bf435d06",
   "metadata": {},
   "outputs": [],
   "source": [
    "import random\n",
    "from string import ascii_lowercase\n",
    "\n",
    "from datasets import load_dataset, ReadInstruction\n",
    "import numpy as np\n",
    "import torch\n",
    "from torch.utils.data import DataLoader\n",
    "from transformers import BertTokenizer, BertModel\n",
    "from nlp_uncertainty_zoo.models import LSTMEnsemble, VariationalBert  # We will test these two models in this demo!\n",
    "\n",
    "# CONST\n",
    "BATCH_SIZE = 16"
   ]
  },
  {
   "cell_type": "code",
   "execution_count": 36,
   "id": "1f61486f",
   "metadata": {},
   "outputs": [
    {
     "name": "stderr",
     "output_type": "stream",
     "text": [
      "Using custom data configuration default\n",
      "Reusing dataset rotten_tomatoes_movie_review (/Users/deul/.cache/huggingface/datasets/rotten_tomatoes_movie_review/default/1.0.0/9c411f7ecd9f3045389de0d9ce984061a1056507703d2e3183b1ac1a90816e4d)\n"
     ]
    },
    {
     "data": {
      "application/vnd.jupyter.widget-view+json": {
       "model_id": "774526c1b5c24429b9af65e4ee965c8a",
       "version_major": 2,
       "version_minor": 0
      },
      "text/plain": [
       "HBox(children=(FloatProgress(value=0.0, max=1.0), HTML(value='')))"
      ]
     },
     "metadata": {},
     "output_type": "display_data"
    },
    {
     "name": "stdout",
     "output_type": "stream",
     "text": [
      "\n"
     ]
    },
    {
     "data": {
      "application/vnd.jupyter.widget-view+json": {
       "model_id": "622826e9628a459e8809e2e8196e1946",
       "version_major": 2,
       "version_minor": 0
      },
      "text/plain": [
       "HBox(children=(FloatProgress(value=0.0, max=1.0), HTML(value='')))"
      ]
     },
     "metadata": {},
     "output_type": "display_data"
    },
    {
     "name": "stdout",
     "output_type": "stream",
     "text": [
      "\n"
     ]
    }
   ],
   "source": [
    "def preprocess_with(tokenizer):\n",
    "    def preprocess(input_):\n",
    "        return tokenizer(\n",
    "            input_[\"text\"],\n",
    "            truncation=True,\n",
    "            padding=\"max_length\",\n",
    "            max_length=50\n",
    "        )\n",
    "    \n",
    "    return preprocess\n",
    "\n",
    "read_instructions = (\n",
    "    ReadInstruction('train', to=10, unit='%'),\n",
    "    ReadInstruction('test', to=10, unit='%')\n",
    ")\n",
    "\n",
    "dataset_train, dataset_test = load_dataset(\"rotten_tomatoes\", split=read_instructions)\n",
    "tokenizer = BertTokenizer.from_pretrained(\"bert-base-uncased\")\n",
    "\n",
    "dataset_train = dataset_train.map(preprocess_with(tokenizer), batched=True)\n",
    "dataset_train.set_format(type=\"torch\", columns=[\"input_ids\", \"attention_mask\", \"label\"])\n",
    "dataset_train = dataset_train.rename_column(\"label\", \"labels\")\n",
    "\n",
    "dataset_test = dataset_test.map(preprocess_with(tokenizer), batched=True)\n",
    "dataset_test.set_format(type=\"torch\", columns=[\"input_ids\", \"attention_mask\", \"label\"])\n",
    "dataset_test = dataset_test.rename_column(\"label\", \"labels\")\n",
    "\n",
    "train_loader = DataLoader(dataset_train, batch_size=BATCH_SIZE)\n",
    "test_loader = DataLoader(dataset_test, batch_size=BATCH_SIZE)"
   ]
  },
  {
   "cell_type": "markdown",
   "id": "4751bac9",
   "metadata": {},
   "source": [
    "## Training"
   ]
  },
  {
   "cell_type": "markdown",
   "id": "18aec99c",
   "metadata": {},
   "source": [
    "We now start by training an ensemble of LSTMs. Due to fact that all members of an ensemble are randomly initialized, models tend to converge to different solutions, making the ensemble very robust to unseen data points (see paper TODO). This is also a very useful property for uncertainty quantification, as we will see later. "
   ]
  },
  {
   "cell_type": "code",
   "execution_count": 40,
   "id": "752e25e3",
   "metadata": {},
   "outputs": [],
   "source": [
    "SEED = 1234\n",
    "np.random.seed(SEED)\n",
    "torch.manual_seed(SEED)\n",
    "\n",
    "vocab_size = len(tokenizer.vocab)"
   ]
  },
  {
   "cell_type": "code",
   "execution_count": 41,
   "id": "1121b0e4",
   "metadata": {},
   "outputs": [],
   "source": [
    "ensemble = LSTMEnsemble(vocab_size=vocab_size, output_size=2, ensemble_size=5)"
   ]
  },
  {
   "cell_type": "code",
   "execution_count": 42,
   "id": "1f79190e",
   "metadata": {},
   "outputs": [
    {
     "name": "stderr",
     "output_type": "stream",
     "text": [
      "\n",
      "  0%|          | 0/5 [00:00<?, ?it/s]\u001b[A\n",
      "Step 1: Train Loss 0.8083:   0%|          | 0/5 [00:20<?, ?it/s]\u001b[A\n",
      "Step 1: Train Loss 0.8083:  20%|██        | 1/5 [00:20<01:20, 20.05s/it]\u001b[A\n",
      "Step 2: Train Loss 2.7179:  20%|██        | 1/5 [00:39<01:20, 20.05s/it]\u001b[A\n",
      "Step 2: Train Loss 2.7179:  40%|████      | 2/5 [00:39<00:59, 19.77s/it]\u001b[A\n",
      "Step 3: Train Loss 0.8492:  40%|████      | 2/5 [00:59<00:59, 19.77s/it]\u001b[A\n",
      "Step 3: Train Loss 0.8492:  60%|██████    | 3/5 [00:59<00:39, 20.00s/it]\u001b[A\n",
      "Step 4: Train Loss 1.5428:  60%|██████    | 3/5 [01:23<00:39, 20.00s/it]\u001b[A\n",
      "Step 4: Train Loss 1.5428:  80%|████████  | 4/5 [01:23<00:21, 21.16s/it]\u001b[A\n",
      "Step 5: Train Loss 2.4234:  80%|████████  | 4/5 [01:49<00:21, 21.16s/it]\u001b[A\n",
      "Step 5: Train Loss 2.4234: 100%|██████████| 5/5 [01:49<00:00, 21.90s/it]\u001b[A\n"
     ]
    },
    {
     "data": {
      "text/plain": [
       "{'model_name': 'lstm_ensemble',\n",
       " 'train_loss': 2.4234464168548584,\n",
       " 'best_val_loss': inf}"
      ]
     },
     "execution_count": 42,
     "metadata": {},
     "output_type": "execute_result"
    }
   ],
   "source": [
    "ensemble.fit(train_loader, num_training_steps=5)"
   ]
  },
  {
   "cell_type": "markdown",
   "id": "b3651728",
   "metadata": {},
   "source": [
    "Next up, we will fine-tune a BERT model. For uncertainty quantification, we will use Monte Carlo Dropout (TODO: Citations): By using multiple different dropout masks during inference, we can create different predictions for the same data point. "
   ]
  },
  {
   "cell_type": "code",
   "execution_count": 43,
   "id": "95d41f7d",
   "metadata": {},
   "outputs": [],
   "source": [
    "variational_bert = VariationalBert(\n",
    "    bert_name=\"bert-base-uncased\", \n",
    "    output_size=2,\n",
    "    #bert_class=DistilBertModel\n",
    ")"
   ]
  },
  {
   "cell_type": "code",
   "execution_count": 44,
   "id": "8d16390f",
   "metadata": {},
   "outputs": [
    {
     "name": "stderr",
     "output_type": "stream",
     "text": [
      "\n",
      "  0%|          | 0/5 [00:00<?, ?it/s]\u001b[A\n",
      "Step 1: Train Loss 1.9154:   0%|          | 0/5 [00:10<?, ?it/s]\u001b[A\n",
      "Step 1: Train Loss 1.9154:  20%|██        | 1/5 [00:10<00:42, 10.60s/it]\u001b[A\n",
      "Step 2: Train Loss 0.0692:  20%|██        | 1/5 [00:18<00:42, 10.60s/it]\u001b[A\n",
      "Step 2: Train Loss 0.0692:  40%|████      | 2/5 [00:18<00:29,  9.83s/it]\u001b[A\n",
      "Step 3: Train Loss 0.0002:  40%|████      | 2/5 [00:26<00:29,  9.83s/it]\u001b[A\n",
      "Step 3: Train Loss 0.0002:  60%|██████    | 3/5 [00:26<00:18,  9.25s/it]\u001b[A\n",
      "Step 4: Train Loss 0.0000:  60%|██████    | 3/5 [00:33<00:18,  9.25s/it]\u001b[A\n",
      "Step 4: Train Loss 0.0000:  80%|████████  | 4/5 [00:33<00:08,  8.71s/it]\u001b[A\n",
      "Step 5: Train Loss 0.0000:  80%|████████  | 4/5 [00:41<00:08,  8.71s/it]\u001b[A\n",
      "Step 5: Train Loss 0.0000: 100%|██████████| 5/5 [00:41<00:00,  8.21s/it]\u001b[A\n"
     ]
    }
   ],
   "source": [
    "variational_bert.fit(train_loader, num_training_steps=5)"
   ]
  },
  {
   "cell_type": "markdown",
   "id": "88d6cafc",
   "metadata": {},
   "source": [
    "## Evaluating task performance & calibration"
   ]
  },
  {
   "cell_type": "markdown",
   "id": "34c2b303",
   "metadata": {},
   "source": [
    "Before we continue, let us first evaluate the models to reassure ourselves that the training was successful:"
   ]
  },
  {
   "cell_type": "code",
   "execution_count": 45,
   "id": "c65a8c50",
   "metadata": {},
   "outputs": [
    {
     "ename": "RuntimeError",
     "evalue": "Expected hidden[0] size (2, 11, 650), got [2, 16, 650]",
     "output_type": "error",
     "traceback": [
      "\u001b[0;31m---------------------------------------------------------------------------\u001b[0m",
      "\u001b[0;31mRuntimeError\u001b[0m                              Traceback (most recent call last)",
      "\u001b[0;32m<ipython-input-45-da9a8dd79aec>\u001b[0m in \u001b[0;36m<module>\u001b[0;34m\u001b[0m\n\u001b[0;32m----> 1\u001b[0;31m \u001b[0mensemble\u001b[0m\u001b[0;34m.\u001b[0m\u001b[0meval\u001b[0m\u001b[0;34m(\u001b[0m\u001b[0mtest_loader\u001b[0m\u001b[0;34m)\u001b[0m\u001b[0;34m\u001b[0m\u001b[0;34m\u001b[0m\u001b[0m\n\u001b[0m",
      "\u001b[0;32m~/Desktop/Projects/nlp-uncertainty-zoo/nlp_uncertainty_zoo/models/model.py\u001b[0m in \u001b[0;36meval\u001b[0;34m(self, data_split, wandb_run)\u001b[0m\n\u001b[1;32m    574\u001b[0m                 \u001b[0mlabels\u001b[0m\u001b[0;34m,\u001b[0m\u001b[0;34m\u001b[0m\u001b[0;34m\u001b[0m\u001b[0m\n\u001b[1;32m    575\u001b[0m                 \u001b[0mattention_mask\u001b[0m\u001b[0;34m=\u001b[0m\u001b[0mattention_mask\u001b[0m\u001b[0;34m,\u001b[0m\u001b[0;34m\u001b[0m\u001b[0;34m\u001b[0m\u001b[0m\n\u001b[0;32m--> 576\u001b[0;31m                 \u001b[0mwandb_run\u001b[0m\u001b[0;34m=\u001b[0m\u001b[0mwandb_run\u001b[0m\u001b[0;34m,\u001b[0m\u001b[0;34m\u001b[0m\u001b[0;34m\u001b[0m\u001b[0m\n\u001b[0m\u001b[1;32m    577\u001b[0m             )\n\u001b[1;32m    578\u001b[0m \u001b[0;34m\u001b[0m\u001b[0m\n",
      "\u001b[0;32m~/Desktop/Projects/nlp-uncertainty-zoo/nlp_uncertainty_zoo/models/lstm_ensemble.py\u001b[0m in \u001b[0;36mget_loss\u001b[0;34m(self, X, y, wandb_run, **kwargs)\u001b[0m\n\u001b[1;32m    463\u001b[0m         )  # Index that is used for non-masked tokens for MLM\n\u001b[1;32m    464\u001b[0m         \u001b[0mtotal_loss\u001b[0m \u001b[0;34m=\u001b[0m \u001b[0mtorch\u001b[0m\u001b[0;34m.\u001b[0m\u001b[0mzeros\u001b[0m\u001b[0;34m(\u001b[0m\u001b[0;36m1\u001b[0m\u001b[0;34m,\u001b[0m \u001b[0mdevice\u001b[0m\u001b[0;34m=\u001b[0m\u001b[0mself\u001b[0m\u001b[0;34m.\u001b[0m\u001b[0mdevice\u001b[0m\u001b[0;34m)\u001b[0m\u001b[0;34m\u001b[0m\u001b[0;34m\u001b[0m\u001b[0m\n\u001b[0;32m--> 465\u001b[0;31m         \u001b[0mpreds\u001b[0m \u001b[0;34m=\u001b[0m \u001b[0mself\u001b[0m\u001b[0;34m.\u001b[0m\u001b[0mmodule\u001b[0m\u001b[0;34m.\u001b[0m\u001b[0mforward\u001b[0m\u001b[0;34m(\u001b[0m\u001b[0mX\u001b[0m\u001b[0;34m,\u001b[0m \u001b[0;34m**\u001b[0m\u001b[0mkwargs\u001b[0m\u001b[0;34m)\u001b[0m\u001b[0;34m\u001b[0m\u001b[0;34m\u001b[0m\u001b[0m\n\u001b[0m\u001b[1;32m    466\u001b[0m \u001b[0;34m\u001b[0m\u001b[0m\n\u001b[1;32m    467\u001b[0m         \u001b[0;32mfor\u001b[0m \u001b[0mn\u001b[0m \u001b[0;32min\u001b[0m \u001b[0mrange\u001b[0m\u001b[0;34m(\u001b[0m\u001b[0mself\u001b[0m\u001b[0;34m.\u001b[0m\u001b[0mmodule\u001b[0m\u001b[0;34m.\u001b[0m\u001b[0mensemble_size\u001b[0m\u001b[0;34m)\u001b[0m\u001b[0;34m:\u001b[0m\u001b[0;34m\u001b[0m\u001b[0;34m\u001b[0m\u001b[0m\n",
      "\u001b[0;32m~/Desktop/Projects/nlp-uncertainty-zoo/nlp_uncertainty_zoo/models/lstm_ensemble.py\u001b[0m in \u001b[0;36mforward\u001b[0;34m(self, input_, *args, **kwargs)\u001b[0m\n\u001b[1;32m    120\u001b[0m \u001b[0;34m\u001b[0m\u001b[0m\n\u001b[1;32m    121\u001b[0m     \u001b[0;32mdef\u001b[0m \u001b[0mforward\u001b[0m\u001b[0;34m(\u001b[0m\u001b[0mself\u001b[0m\u001b[0;34m,\u001b[0m \u001b[0minput_\u001b[0m\u001b[0;34m:\u001b[0m \u001b[0mtorch\u001b[0m\u001b[0;34m.\u001b[0m\u001b[0mLongTensor\u001b[0m\u001b[0;34m,\u001b[0m \u001b[0;34m*\u001b[0m\u001b[0margs\u001b[0m\u001b[0;34m,\u001b[0m \u001b[0;34m**\u001b[0m\u001b[0mkwargs\u001b[0m\u001b[0;34m)\u001b[0m \u001b[0;34m->\u001b[0m \u001b[0mtorch\u001b[0m\u001b[0;34m.\u001b[0m\u001b[0mFloatTensor\u001b[0m\u001b[0;34m:\u001b[0m\u001b[0;34m\u001b[0m\u001b[0;34m\u001b[0m\u001b[0m\n\u001b[0;32m--> 122\u001b[0;31m         \u001b[0mpreds\u001b[0m \u001b[0;34m=\u001b[0m \u001b[0mself\u001b[0m\u001b[0;34m.\u001b[0m\u001b[0mget_logits\u001b[0m\u001b[0;34m(\u001b[0m\u001b[0minput_\u001b[0m\u001b[0;34m)\u001b[0m\u001b[0;34m\u001b[0m\u001b[0;34m\u001b[0m\u001b[0m\n\u001b[0m\u001b[1;32m    123\u001b[0m \u001b[0;34m\u001b[0m\u001b[0m\n\u001b[1;32m    124\u001b[0m         \u001b[0;32mreturn\u001b[0m \u001b[0mpreds\u001b[0m\u001b[0;34m\u001b[0m\u001b[0;34m\u001b[0m\u001b[0m\n",
      "\u001b[0;32m~/Desktop/Projects/nlp-uncertainty-zoo/nlp_uncertainty_zoo/models/lstm_ensemble.py\u001b[0m in \u001b[0;36mget_logits\u001b[0;34m(self, input_, num_predictions, *args, **kwargs)\u001b[0m\n\u001b[1;32m    114\u001b[0m \u001b[0;34m\u001b[0m\u001b[0m\n\u001b[1;32m    115\u001b[0m         out = torch.stack(\n\u001b[0;32m--> 116\u001b[0;31m             \u001b[0;34m[\u001b[0m\u001b[0mmember\u001b[0m\u001b[0;34m.\u001b[0m\u001b[0mget_logits\u001b[0m\u001b[0;34m(\u001b[0m\u001b[0minput_\u001b[0m\u001b[0;34m)\u001b[0m \u001b[0;32mfor\u001b[0m \u001b[0mmember\u001b[0m \u001b[0;32min\u001b[0m \u001b[0mq\u001b[0m \u001b[0;34m*\u001b[0m \u001b[0mmembers\u001b[0m \u001b[0;34m+\u001b[0m \u001b[0mmembers\u001b[0m\u001b[0;34m[\u001b[0m\u001b[0;34m:\u001b[0m\u001b[0mr\u001b[0m\u001b[0;34m]\u001b[0m\u001b[0;34m]\u001b[0m\u001b[0;34m,\u001b[0m \u001b[0mdim\u001b[0m\u001b[0;34m=\u001b[0m\u001b[0;36m1\u001b[0m\u001b[0;34m\u001b[0m\u001b[0;34m\u001b[0m\u001b[0m\n\u001b[0m\u001b[1;32m    117\u001b[0m         )\n\u001b[1;32m    118\u001b[0m \u001b[0;34m\u001b[0m\u001b[0m\n",
      "\u001b[0;32m~/Desktop/Projects/nlp-uncertainty-zoo/nlp_uncertainty_zoo/models/lstm_ensemble.py\u001b[0m in \u001b[0;36m<listcomp>\u001b[0;34m(.0)\u001b[0m\n\u001b[1;32m    114\u001b[0m \u001b[0;34m\u001b[0m\u001b[0m\n\u001b[1;32m    115\u001b[0m         out = torch.stack(\n\u001b[0;32m--> 116\u001b[0;31m             \u001b[0;34m[\u001b[0m\u001b[0mmember\u001b[0m\u001b[0;34m.\u001b[0m\u001b[0mget_logits\u001b[0m\u001b[0;34m(\u001b[0m\u001b[0minput_\u001b[0m\u001b[0;34m)\u001b[0m \u001b[0;32mfor\u001b[0m \u001b[0mmember\u001b[0m \u001b[0;32min\u001b[0m \u001b[0mq\u001b[0m \u001b[0;34m*\u001b[0m \u001b[0mmembers\u001b[0m \u001b[0;34m+\u001b[0m \u001b[0mmembers\u001b[0m\u001b[0;34m[\u001b[0m\u001b[0;34m:\u001b[0m\u001b[0mr\u001b[0m\u001b[0;34m]\u001b[0m\u001b[0;34m]\u001b[0m\u001b[0;34m,\u001b[0m \u001b[0mdim\u001b[0m\u001b[0;34m=\u001b[0m\u001b[0;36m1\u001b[0m\u001b[0;34m\u001b[0m\u001b[0;34m\u001b[0m\u001b[0m\n\u001b[0m\u001b[1;32m    117\u001b[0m         )\n\u001b[1;32m    118\u001b[0m \u001b[0;34m\u001b[0m\u001b[0m\n",
      "\u001b[0;32m~/Desktop/Projects/nlp-uncertainty-zoo/nlp_uncertainty_zoo/models/lstm.py\u001b[0m in \u001b[0;36mget_logits\u001b[0;34m(self, input_, *args, **kwargs)\u001b[0m\n\u001b[1;32m    169\u001b[0m             \u001b[0mLogits\u001b[0m \u001b[0;32mfor\u001b[0m \u001b[0mcurrent\u001b[0m \u001b[0minput\u001b[0m\u001b[0;34m.\u001b[0m\u001b[0;34m\u001b[0m\u001b[0;34m\u001b[0m\u001b[0m\n\u001b[1;32m    170\u001b[0m         \"\"\"\n\u001b[0;32m--> 171\u001b[0;31m         \u001b[0mout\u001b[0m \u001b[0;34m=\u001b[0m \u001b[0mself\u001b[0m\u001b[0;34m.\u001b[0m\u001b[0mforward\u001b[0m\u001b[0;34m(\u001b[0m\u001b[0minput_\u001b[0m\u001b[0;34m)\u001b[0m\u001b[0;34m\u001b[0m\u001b[0;34m\u001b[0m\u001b[0m\n\u001b[0m\u001b[1;32m    172\u001b[0m \u001b[0;34m\u001b[0m\u001b[0m\n\u001b[1;32m    173\u001b[0m         \u001b[0;32mreturn\u001b[0m \u001b[0mout\u001b[0m\u001b[0;34m\u001b[0m\u001b[0;34m\u001b[0m\u001b[0m\n",
      "\u001b[0;32m~/Desktop/Projects/nlp-uncertainty-zoo/nlp_uncertainty_zoo/models/lstm.py\u001b[0m in \u001b[0;36mforward\u001b[0;34m(self, input_, hidden_states, **kwargs)\u001b[0m\n\u001b[1;32m    117\u001b[0m         \u001b[0membeddings\u001b[0m \u001b[0;34m=\u001b[0m \u001b[0mself\u001b[0m\u001b[0;34m.\u001b[0m\u001b[0membeddings\u001b[0m\u001b[0;34m(\u001b[0m\u001b[0minput_\u001b[0m\u001b[0;34m)\u001b[0m\u001b[0;34m\u001b[0m\u001b[0;34m\u001b[0m\u001b[0m\n\u001b[1;32m    118\u001b[0m         out, (hidden_states, cell_states) = self.lstm(\n\u001b[0;32m--> 119\u001b[0;31m             \u001b[0membeddings\u001b[0m\u001b[0;34m,\u001b[0m \u001b[0;34m(\u001b[0m\u001b[0mhidden_states\u001b[0m\u001b[0;34m,\u001b[0m \u001b[0mcell_states\u001b[0m\u001b[0;34m)\u001b[0m\u001b[0;34m\u001b[0m\u001b[0;34m\u001b[0m\u001b[0m\n\u001b[0m\u001b[1;32m    120\u001b[0m         )\n\u001b[1;32m    121\u001b[0m \u001b[0;34m\u001b[0m\u001b[0m\n",
      "\u001b[0;32m~/anaconda3/envs/nlp-uncertainty-zoo/lib/python3.6/site-packages/torch/nn/modules/module.py\u001b[0m in \u001b[0;36m_call_impl\u001b[0;34m(self, *input, **kwargs)\u001b[0m\n\u001b[1;32m   1049\u001b[0m         if not (self._backward_hooks or self._forward_hooks or self._forward_pre_hooks or _global_backward_hooks\n\u001b[1;32m   1050\u001b[0m                 or _global_forward_hooks or _global_forward_pre_hooks):\n\u001b[0;32m-> 1051\u001b[0;31m             \u001b[0;32mreturn\u001b[0m \u001b[0mforward_call\u001b[0m\u001b[0;34m(\u001b[0m\u001b[0;34m*\u001b[0m\u001b[0minput\u001b[0m\u001b[0;34m,\u001b[0m \u001b[0;34m**\u001b[0m\u001b[0mkwargs\u001b[0m\u001b[0;34m)\u001b[0m\u001b[0;34m\u001b[0m\u001b[0;34m\u001b[0m\u001b[0m\n\u001b[0m\u001b[1;32m   1052\u001b[0m         \u001b[0;31m# Do not call functions when jit is used\u001b[0m\u001b[0;34m\u001b[0m\u001b[0;34m\u001b[0m\u001b[0;34m\u001b[0m\u001b[0m\n\u001b[1;32m   1053\u001b[0m         \u001b[0mfull_backward_hooks\u001b[0m\u001b[0;34m,\u001b[0m \u001b[0mnon_full_backward_hooks\u001b[0m \u001b[0;34m=\u001b[0m \u001b[0;34m[\u001b[0m\u001b[0;34m]\u001b[0m\u001b[0;34m,\u001b[0m \u001b[0;34m[\u001b[0m\u001b[0;34m]\u001b[0m\u001b[0;34m\u001b[0m\u001b[0;34m\u001b[0m\u001b[0m\n",
      "\u001b[0;32m~/anaconda3/envs/nlp-uncertainty-zoo/lib/python3.6/site-packages/torch/nn/modules/rnn.py\u001b[0m in \u001b[0;36mforward\u001b[0;34m(self, input, hx)\u001b[0m\n\u001b[1;32m    675\u001b[0m             \u001b[0mhx\u001b[0m \u001b[0;34m=\u001b[0m \u001b[0mself\u001b[0m\u001b[0;34m.\u001b[0m\u001b[0mpermute_hidden\u001b[0m\u001b[0;34m(\u001b[0m\u001b[0mhx\u001b[0m\u001b[0;34m,\u001b[0m \u001b[0msorted_indices\u001b[0m\u001b[0;34m)\u001b[0m\u001b[0;34m\u001b[0m\u001b[0;34m\u001b[0m\u001b[0m\n\u001b[1;32m    676\u001b[0m \u001b[0;34m\u001b[0m\u001b[0m\n\u001b[0;32m--> 677\u001b[0;31m         \u001b[0mself\u001b[0m\u001b[0;34m.\u001b[0m\u001b[0mcheck_forward_args\u001b[0m\u001b[0;34m(\u001b[0m\u001b[0minput\u001b[0m\u001b[0;34m,\u001b[0m \u001b[0mhx\u001b[0m\u001b[0;34m,\u001b[0m \u001b[0mbatch_sizes\u001b[0m\u001b[0;34m)\u001b[0m\u001b[0;34m\u001b[0m\u001b[0;34m\u001b[0m\u001b[0m\n\u001b[0m\u001b[1;32m    678\u001b[0m         \u001b[0;32mif\u001b[0m \u001b[0mbatch_sizes\u001b[0m \u001b[0;32mis\u001b[0m \u001b[0;32mNone\u001b[0m\u001b[0;34m:\u001b[0m\u001b[0;34m\u001b[0m\u001b[0;34m\u001b[0m\u001b[0m\n\u001b[1;32m    679\u001b[0m             result = _VF.lstm(input, hx, self._flat_weights, self.bias, self.num_layers,\n",
      "\u001b[0;32m~/anaconda3/envs/nlp-uncertainty-zoo/lib/python3.6/site-packages/torch/nn/modules/rnn.py\u001b[0m in \u001b[0;36mcheck_forward_args\u001b[0;34m(self, input, hidden, batch_sizes)\u001b[0m\n\u001b[1;32m    620\u001b[0m         \u001b[0mself\u001b[0m\u001b[0;34m.\u001b[0m\u001b[0mcheck_input\u001b[0m\u001b[0;34m(\u001b[0m\u001b[0minput\u001b[0m\u001b[0;34m,\u001b[0m \u001b[0mbatch_sizes\u001b[0m\u001b[0;34m)\u001b[0m\u001b[0;34m\u001b[0m\u001b[0;34m\u001b[0m\u001b[0m\n\u001b[1;32m    621\u001b[0m         self.check_hidden_size(hidden[0], self.get_expected_hidden_size(input, batch_sizes),\n\u001b[0;32m--> 622\u001b[0;31m                                'Expected hidden[0] size {}, got {}')\n\u001b[0m\u001b[1;32m    623\u001b[0m         self.check_hidden_size(hidden[1], self.get_expected_cell_size(input, batch_sizes),\n\u001b[1;32m    624\u001b[0m                                'Expected hidden[1] size {}, got {}')\n",
      "\u001b[0;32m~/anaconda3/envs/nlp-uncertainty-zoo/lib/python3.6/site-packages/torch/nn/modules/rnn.py\u001b[0m in \u001b[0;36mcheck_hidden_size\u001b[0;34m(self, hx, expected_hidden_size, msg)\u001b[0m\n\u001b[1;32m    224\u001b[0m                           msg: str = 'Expected hidden size {}, got {}') -> None:\n\u001b[1;32m    225\u001b[0m         \u001b[0;32mif\u001b[0m \u001b[0mhx\u001b[0m\u001b[0;34m.\u001b[0m\u001b[0msize\u001b[0m\u001b[0;34m(\u001b[0m\u001b[0;34m)\u001b[0m \u001b[0;34m!=\u001b[0m \u001b[0mexpected_hidden_size\u001b[0m\u001b[0;34m:\u001b[0m\u001b[0;34m\u001b[0m\u001b[0;34m\u001b[0m\u001b[0m\n\u001b[0;32m--> 226\u001b[0;31m             \u001b[0;32mraise\u001b[0m \u001b[0mRuntimeError\u001b[0m\u001b[0;34m(\u001b[0m\u001b[0mmsg\u001b[0m\u001b[0;34m.\u001b[0m\u001b[0mformat\u001b[0m\u001b[0;34m(\u001b[0m\u001b[0mexpected_hidden_size\u001b[0m\u001b[0;34m,\u001b[0m \u001b[0mlist\u001b[0m\u001b[0;34m(\u001b[0m\u001b[0mhx\u001b[0m\u001b[0;34m.\u001b[0m\u001b[0msize\u001b[0m\u001b[0;34m(\u001b[0m\u001b[0;34m)\u001b[0m\u001b[0;34m)\u001b[0m\u001b[0;34m)\u001b[0m\u001b[0;34m)\u001b[0m\u001b[0;34m\u001b[0m\u001b[0;34m\u001b[0m\u001b[0m\n\u001b[0m\u001b[1;32m    227\u001b[0m \u001b[0;34m\u001b[0m\u001b[0m\n\u001b[1;32m    228\u001b[0m     \u001b[0;32mdef\u001b[0m \u001b[0mcheck_forward_args\u001b[0m\u001b[0;34m(\u001b[0m\u001b[0mself\u001b[0m\u001b[0;34m,\u001b[0m \u001b[0minput\u001b[0m\u001b[0;34m:\u001b[0m \u001b[0mTensor\u001b[0m\u001b[0;34m,\u001b[0m \u001b[0mhidden\u001b[0m\u001b[0;34m:\u001b[0m \u001b[0mTensor\u001b[0m\u001b[0;34m,\u001b[0m \u001b[0mbatch_sizes\u001b[0m\u001b[0;34m:\u001b[0m \u001b[0mOptional\u001b[0m\u001b[0;34m[\u001b[0m\u001b[0mTensor\u001b[0m\u001b[0;34m]\u001b[0m\u001b[0;34m)\u001b[0m\u001b[0;34m:\u001b[0m\u001b[0;34m\u001b[0m\u001b[0;34m\u001b[0m\u001b[0m\n",
      "\u001b[0;31mRuntimeError\u001b[0m: Expected hidden[0] size (2, 11, 650), got [2, 16, 650]"
     ]
    }
   ],
   "source": [
    "ensemble.eval(test_loader)"
   ]
  },
  {
   "cell_type": "code",
   "execution_count": null,
   "id": "d5fe480a",
   "metadata": {},
   "outputs": [],
   "source": [
    "variational_bert.eval(test_loader)"
   ]
  },
  {
   "cell_type": "markdown",
   "id": "78b79c6f",
   "metadata": {},
   "source": [
    "We can also evaluate to what extend the probability of a predicted class actually corresponds to the chance of the model actually predicting the correct class, also called *calibration* (Guo et al., 2017). One way to evaluate this propery is the expected calibration error (ECE): By binning predictions with similar confidence scores, we can evaluate if the mean confidence per bin corresponds to the accuracy on the binned samples:"
   ]
  },
  {
   "cell_type": "code",
   "execution_count": null,
   "id": "48e959dd",
   "metadata": {},
   "outputs": [],
   "source": [
    "for batch in test_loader:\n",
    "    \n",
    "\n",
    "ensemble_preds = ensemble.predict()"
   ]
  },
  {
   "cell_type": "code",
   "execution_count": null,
   "id": "5298778f",
   "metadata": {},
   "outputs": [],
   "source": [
    "# TODO: Implement calibration with ECE"
   ]
  },
  {
   "cell_type": "markdown",
   "id": "7a1be622",
   "metadata": {},
   "source": [
    "Another approach is evaluation using *prediction sets* (TODO: Citation). The idea here is to sort predictings descendingly and add classes to a set until a certain amount of probability mass - for instance 90 % in the example below - is reached. If the model is well calibrated, these prediction sets should be small and contain the correct class (on average). Using the functions implemented in the package, we evaluate these properties below: "
   ]
  },
  {
   "cell_type": "code",
   "execution_count": null,
   "id": "0748a7cb",
   "metadata": {},
   "outputs": [],
   "source": [
    "# TODO: Implement prediction set evaluation"
   ]
  },
  {
   "cell_type": "markdown",
   "id": "ea4ab469",
   "metadata": {},
   "source": [
    "## Uncertainty quantification\n",
    "\n",
    "Next, we want to use the model to actually quantify their uncertainty in a prediction. For this purpose, we manually define some sequences which should seem suspicious to the models. "
   ]
  },
  {
   "cell_type": "code",
   "execution_count": null,
   "id": "38e5a9ac",
   "metadata": {},
   "outputs": [],
   "source": [
    "original_sentence = train_set[1][\"text\"]\n",
    "print(original_sentence)"
   ]
  },
  {
   "cell_type": "code",
   "execution_count": null,
   "id": "f9222448",
   "metadata": {},
   "outputs": [],
   "source": [
    "# The model hasn't been finetuned on German, so this should be weird\n",
    "sentence1 = (\n",
    "    \"Die umwerfend aufwendige Fortsetzung der „Der Herr der Ringe“-Trilogie ist so umfangreich,\"\n",
    "    \"dass eine Kolonne von Worten die erweiterte Vision von Co-Autor/Regisseur Peter Jackson \"\n",
    "    \"von j. r . r . Tolkiens Mittelerde nicht angemessen beschreiben kann.\"\n",
    ").lower()\n",
    "# Now we scramble the contents of the sentence randomly\n",
    "tokens = original_sentence.split(\" \")\n",
    "sentence2 = \" \".join(random.sample(tokens, len(tokens)))\n",
    "print(sentence2)\n",
    "\n",
    "# Add noise to the sentence\n",
    "delete_chars = 10\n",
    "add_noise_chars = 10\n",
    "\n",
    "sentence3 = str(original_sentence)\n",
    "\n",
    "for _ in range(delete_chars):\n",
    "    idx = random.choice(range(len(sentence3)))\n",
    "    sentence3 = sentence3[:idx] + sentence3[idx + 1:]\n",
    "    \n",
    "for _ in range(add_noise_chars):\n",
    "    idx = random.choice(range(len(sentence3)))\n",
    "    char = random.choice(ascii_lowercase)\n",
    "    \n",
    "    sentence3 = sentence3[:idx] + char + sentence3[idx:]\n",
    "    \n",
    "print(sentence3)"
   ]
  },
  {
   "cell_type": "markdown",
   "id": "831fc2b0",
   "metadata": {},
   "source": [
    "We first check the predictions for the sentence above. The original sentence had a positive sentiment, so we first whether our model come to the same conclusion:"
   ]
  },
  {
   "cell_type": "code",
   "execution_count": null,
   "id": "89fe259a",
   "metadata": {},
   "outputs": [],
   "source": [
    "# TODO: Get predictions"
   ]
  },
  {
   "cell_type": "markdown",
   "id": "4272fda4",
   "metadata": {},
   "source": [
    "Since the sentences are very different from the training sentences, we now measure the uncertainty. Since the inputs above are pretty different from the inputs the models were trained on, we would hope the models to be more uncertain on the noisy sentences. \n",
    "\n",
    "In this demo, we will explore three different uncertainty matrix: Maximum softmax probability, predictive entropy, and mutual information. Depending on the model, there might be different metrics available. You can check that by inspecting the ``available_uncertainty_metrics`` attribute:"
   ]
  },
  {
   "cell_type": "code",
   "execution_count": null,
   "id": "29e90ad6",
   "metadata": {},
   "outputs": [],
   "source": [
    "# TODO: Implement functionality and use here"
   ]
  },
  {
   "cell_type": "markdown",
   "id": "3996f260",
   "metadata": {},
   "source": [
    "But back to metrics here. An easy and intuitive metric is the maximum softmax probability (TODO: Citation)\n",
    "\n",
    "$$1 - \\max_k p_{\\theta}(y=k|x)$$\n",
    "\n",
    "Intuitively, when the model is uncertain, the distribution over classes should be uniform, thus yielding a low maximum probability over classes. We substract the value from 1 here in order to have small values correspond to high certainty. \n",
    "\n",
    "Another way to measure uncertainty is to use the Shannon entropy of the predictive distribution: For a uniform distribution, the entropy will be maximal:\n",
    "\n",
    "$$-\\sum_{k=1}^K p_{\\theta}(y=k|x) \\log p_{\\theta}(y=k|x)$$\n",
    "\n",
    "Lastly, Smith & Gal (2017) propose mutual information as a way to exlusively measure the *model uncertainty*:\n",
    "\n",
    "$$\\text{H}\\bigg[\\mathbb{E}_{q(\\theta)}\\Big[p_{\\theta}(y|x)\\Big]\\bigg] - \\mathbb{E}_{q(\\theta)}\\bigg[\\text{H}\\Big[p_{\\theta}(y|x)\\Big]\\bigg]$$\n",
    "\n",
    "Here, the first term denotes the total uncertainty, from which the second term, the *data uncertainty*, is subtracted, leaving only the model uncertainty. Usually, the expectation in both terms would over the weight posterior $p(\\theta|\\mathcal{D})$ of the model, which is generally intractable to evaluate for neural networks, which is why we model an approximate posterior $q(\\theta)$ instead. To evaluate this expectation, we use monte carlo sampling, by simply averaging the predictions coming from different sets of weights - in the case of the LSTM ensemble, these come from different ensemble members, for the Variational BERT, this corresponds to predictions using different dropout masks."
   ]
  },
  {
   "cell_type": "code",
   "execution_count": null,
   "id": "e21e8401",
   "metadata": {},
   "outputs": [],
   "source": [
    "# TODO: Demonstrate usage of uncertainty metrics, measure uncertainty on noisy sentences compared to original one"
   ]
  },
  {
   "cell_type": "markdown",
   "id": "7575f64c",
   "metadata": {},
   "source": [
    "## Evaluating the quality of uncertainty estimates"
   ]
  },
  {
   "cell_type": "markdown",
   "id": "f4f5e3ae",
   "metadata": {},
   "source": [
    "As we have done before with the raw probalities, we also want to know how reliable the uncertainty estimates for our models are. The package also provides several ways to do this: Firstly, we can evaluate them using an OOD detection task - the model should be more uncertain on data points that are unlike the ones in the training set. By using the uncertainty scores, we can use binary classification metrics like the area under the precision-recall curve (AUPR) and the area under the receiver-operator characteristic (AUROC) to evaluate this. In our Rotten tomatoes example, we will add noise to the sentences in our test set and use these sentences as an OOD data set."
   ]
  },
  {
   "cell_type": "code",
   "execution_count": null,
   "id": "edcea9db",
   "metadata": {},
   "outputs": [],
   "source": [
    "# TODO: Evaluate "
   ]
  },
  {
   "cell_type": "markdown",
   "id": "29fe9353",
   "metadata": {},
   "source": [
    "The other way introduced by Ulmer et al. (2022) is to measure how much high uncertainty corresponds to the model making wrong predictions. This is quantified by collecting the model loss and uncertainty for all points in the test set, and measuring their correlation using the [Kendall's $\\tau$ correlation coefficient](https://en.wikipedia.org/wiki/Kendall_rank_correlation_coefficient). The values range from -1 to 1, which 1 indicating that high uncertainty perfectly correlates with high model loss."
   ]
  },
  {
   "cell_type": "code",
   "execution_count": null,
   "id": "a4dbb46a",
   "metadata": {},
   "outputs": [],
   "source": [
    "# TODO: Evaluate using Kendal's tau"
   ]
  },
  {
   "cell_type": "markdown",
   "id": "568eeb40",
   "metadata": {},
   "source": [
    "## Visualizing sentence representations\n",
    "\n",
    "Part of the interface of the model implementations also allows us to create representation of input sequences and to visualize the latent space of the models. Below we visualize the representations for the original and corrupted sentences below:"
   ]
  },
  {
   "cell_type": "code",
   "execution_count": null,
   "id": "07851e06",
   "metadata": {},
   "outputs": [],
   "source": [
    "# TODO: Implement functions to extract representations and visualize data"
   ]
  },
  {
   "cell_type": "code",
   "execution_count": null,
   "id": "65756b39",
   "metadata": {},
   "outputs": [],
   "source": [
    "# TODO: Plot representations for Variational BERT"
   ]
  },
  {
   "cell_type": "code",
   "execution_count": null,
   "id": "b75b4c2f",
   "metadata": {},
   "outputs": [],
   "source": [
    "# TODO: Plot representations for LSTM Ensemble"
   ]
  },
  {
   "cell_type": "markdown",
   "id": "4e71193f",
   "metadata": {},
   "source": [
    "Thanks for reading through this demo! We only showcase the most useful functionalities here that people might want to use when applying the implemented models. If you would like to know more about the different models and functionalities in the package, consult [the documentation](http://dennisulmer.eu/nlp-uncertainty-zoo/). If you find any bugs or have requests for missing features, please [open an issue on the Github repository](https://github.com/Kaleidophon/nlp-uncertainty-zoo/issues). Below you can find the papers that were referenced in this demo:\n",
    "\n",
    "TODO"
   ]
  },
  {
   "cell_type": "code",
   "execution_count": null,
   "id": "b9b991e8",
   "metadata": {},
   "outputs": [],
   "source": []
  }
 ],
 "metadata": {
  "kernelspec": {
   "display_name": "Python 3",
   "language": "python",
   "name": "python3"
  },
  "language_info": {
   "codemirror_mode": {
    "name": "ipython",
    "version": 3
   },
   "file_extension": ".py",
   "mimetype": "text/x-python",
   "name": "python",
   "nbconvert_exporter": "python",
   "pygments_lexer": "ipython3",
   "version": "3.6.13"
  }
 },
 "nbformat": 4,
 "nbformat_minor": 5
}
